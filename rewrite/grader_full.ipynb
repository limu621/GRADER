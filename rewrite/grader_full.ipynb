{
 "cells": [
  {
   "cell_type": "code",
   "execution_count": null,
   "id": "54d78b29",
   "metadata": {},
   "outputs": [],
   "source": [
    "# 将文件内容保存为 grader_full.py\n",
    "# 然后在Jupyter Notebook中导入并使用\n",
    "\n",
    "from grader_full import train_agent\n",
    "\n",
    "# 训练GRADER智能体\n",
    "from grader_full import train_agent\n",
    "\n",
    "# 训练GRADER智能体\n",
    "results = train_agent(\n",
    "    exp_name='my_experiment',\n",
    "    mode='IID',\n",
    "    agent_type='GRADER',\n",
    "    grader_model='causal',\n",
    "    env_name='chemistry',\n",
    "    graph='chain',\n",
    "    num_episodes=200,\n",
    "    config_path='/workspace/HealthCPT/GRADER/config/chemistry_config.yaml'  # 添加这一行\n",
    ")"
   ]
  }
 ],
 "metadata": {
  "kernelspec": {
   "display_name": "ai_clinician",
   "language": "python",
   "name": "python3"
  },
  "language_info": {
   "codemirror_mode": {
    "name": "ipython",
    "version": 3
   },
   "file_extension": ".py",
   "mimetype": "text/x-python",
   "name": "python",
   "nbconvert_exporter": "python",
   "pygments_lexer": "ipython3",
   "version": "3.8.20"
  }
 },
 "nbformat": 4,
 "nbformat_minor": 5
}
